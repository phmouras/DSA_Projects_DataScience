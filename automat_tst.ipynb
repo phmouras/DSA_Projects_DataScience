{
  "nbformat": 4,
  "nbformat_minor": 0,
  "metadata": {
    "colab": {
      "provenance": [],
      "authorship_tag": "ABX9TyOO86Zjhr0/ZmIVlbakbriw",
      "include_colab_link": true
    },
    "kernelspec": {
      "name": "python3",
      "display_name": "Python 3"
    },
    "language_info": {
      "name": "python"
    }
  },
  "cells": [
    {
      "cell_type": "markdown",
      "metadata": {
        "id": "view-in-github",
        "colab_type": "text"
      },
      "source": [
        "<a href=\"https://colab.research.google.com/github/phmouras/DSA_Projects_DataScience/blob/main/automat_tst.ipynb\" target=\"_parent\"><img src=\"https://colab.research.google.com/assets/colab-badge.svg\" alt=\"Open In Colab\"/></a>"
      ]
    },
    {
      "cell_type": "code",
      "execution_count": null,
      "metadata": {
        "id": "2aP1mBtWlOdB"
      },
      "outputs": [],
      "source": [
        "from mailmerge import MailMerge\n",
        "import pandas as pd\n",
        "\n",
        "# Ler dados\n",
        "dados = pd.read_excel(\"clientes.xlsx\")\n",
        "\n",
        "# Para cada cliente, preenche o Word\n",
        "for _, cliente in dados.iterrows():\n",
        "    documento = MailMerge(\"template.docx\")\n",
        "    documento.merge(\n",
        "        NOME=cliente[\"NOME\"],\n",
        "        EMAIL=cliente[\"EMAIL\"],\n",
        "        VALOR=f\"R$ {cliente['VALOR']:.2f}\"\n",
        "    )\n",
        "    documento.write(f\"contrato_{cliente['NOME']}.docx\")"
      ]
    }
  ]
}