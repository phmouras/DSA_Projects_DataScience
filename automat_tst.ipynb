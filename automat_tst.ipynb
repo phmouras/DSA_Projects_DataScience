{
  "nbformat": 4,
  "nbformat_minor": 0,
  "metadata": {
    "colab": {
      "provenance": [],
      "authorship_tag": "ABX9TyNSJCsnFLh2HnJwI+/RwZHv",
      "include_colab_link": true
    },
    "kernelspec": {
      "name": "python3",
      "display_name": "Python 3"
    },
    "language_info": {
      "name": "python"
    }
  },
  "cells": [
    {
      "cell_type": "markdown",
      "metadata": {
        "id": "view-in-github",
        "colab_type": "text"
      },
      "source": [
        "<a href=\"https://colab.research.google.com/github/phmouras/DSA_Projects_DataScience/blob/main/automat_tst.ipynb\" target=\"_parent\"><img src=\"https://colab.research.google.com/assets/colab-badge.svg\" alt=\"Open In Colab\"/></a>"
      ]
    },
    {
      "cell_type": "code",
      "execution_count": null,
      "metadata": {
        "id": "2aP1mBtWlOdB"
      },
      "outputs": [],
      "source": [
        "from mailmerge import MailMerge\n",
        "template = \"modelo.docx\"\n",
        "documento = MailMerge(template)\n",
        "documento.merge(NOME=\"Pedro Henrique\", DATA=\"10/05/2024\")\n",
        "documento.write(\"documento_preenchido.docx\")"
      ]
    }
  ]
}